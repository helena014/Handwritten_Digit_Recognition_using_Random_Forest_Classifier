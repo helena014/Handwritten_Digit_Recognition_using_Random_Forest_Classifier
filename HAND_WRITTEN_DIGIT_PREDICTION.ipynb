{
  "nbformat": 4,
  "nbformat_minor": 0,
  "metadata": {
    "colab": {
      "provenance": []
    },
    "kernelspec": {
      "name": "python3",
      "display_name": "Python 3"
    },
    "language_info": {
      "name": "python"
    }
  },
  "cells": [
    {
      "cell_type": "markdown",
      "source": [
        "**HAND WRITTEN DIGIT PREDICTION - CLASSIFICATION ANALYSIS**"
      ],
      "metadata": {
        "id": "xO_LwtMHKOgX"
      }
    },
    {
      "cell_type": "markdown",
      "source": [
        "The digits dataset consists of 8x8 pixel images of digits. The images attribute of the dataset stores 8x8 arrays of grayscale values for each image. We will use these arrays to visualize the first four images. The target attribute of the dataset stores the digit each image represents."
      ],
      "metadata": {
        "id": "RaC1mdFZKa5m"
      }
    },
    {
      "cell_type": "markdown",
      "source": [
        "DATA SOURCE"
      ],
      "metadata": {
        "id": "fjBR6D0NhInT"
      }
    },
    {
      "cell_type": "markdown",
      "source": [
        "The data used in this project is the digits dataset from the `sklearn.datasets` module.\n"
      ],
      "metadata": {
        "id": "EhaOmJSghNo6"
      }
    },
    {
      "cell_type": "markdown",
      "source": [
        "IMPORT LIBRARY"
      ],
      "metadata": {
        "id": "ieohwoQVhV1O"
      }
    },
    {
      "cell_type": "code",
      "source": [
        "# import library"
      ],
      "metadata": {
        "id": "YHdGtb1KLKUe"
      },
      "execution_count": null,
      "outputs": []
    },
    {
      "cell_type": "code",
      "source": [
        "import pandas as pd"
      ],
      "metadata": {
        "id": "gLz4WILbLRsw"
      },
      "execution_count": null,
      "outputs": []
    },
    {
      "cell_type": "code",
      "source": [
        "import numpy as np"
      ],
      "metadata": {
        "id": "TD52tIXuLRpb"
      },
      "execution_count": null,
      "outputs": []
    },
    {
      "cell_type": "code",
      "source": [
        "import matplotlib.pyplot as plt"
      ],
      "metadata": {
        "id": "I9R9N1RlLRnm"
      },
      "execution_count": null,
      "outputs": []
    },
    {
      "cell_type": "markdown",
      "source": [
        "IMPORT DATA"
      ],
      "metadata": {
        "id": "7qIQlpXTheYm"
      }
    },
    {
      "cell_type": "code",
      "source": [
        "# import data"
      ],
      "metadata": {
        "id": "KSJAw0E1LRko"
      },
      "execution_count": null,
      "outputs": []
    },
    {
      "cell_type": "code",
      "source": [
        "from sklearn.datasets import load_digits"
      ],
      "metadata": {
        "id": "hui5BrYzLRiM"
      },
      "execution_count": null,
      "outputs": []
    },
    {
      "cell_type": "code",
      "source": [
        "df = load_digits()"
      ],
      "metadata": {
        "id": "MtOjl3-mLRfx"
      },
      "execution_count": null,
      "outputs": []
    },
    {
      "cell_type": "markdown",
      "source": [
        "DATA VISUALIZATION"
      ],
      "metadata": {
        "id": "PlSMHGYvh2z3"
      }
    },
    {
      "cell_type": "code",
      "source": [
        "_, axes = plt.subplots(nrows=1, ncols=4, figsize=(10, 3))\n",
        "for ax, image, label in zip(axes, df.images, df.target):\n",
        "    ax.set_axis_off()\n",
        "    ax.imshow(image, cmap=plt.cm.gray_r, interpolation=\"nearest\")\n",
        "    ax.set_title(\"Training:%i\" % label)"
      ],
      "metadata": {
        "id": "EZ8SqVB4LRdT",
        "colab": {
          "base_uri": "https://localhost:8080/",
          "height": 227
        },
        "outputId": "26899d6a-a169-40e8-f8df-0fa589e807c7"
      },
      "execution_count": null,
      "outputs": [
        {
          "output_type": "display_data",
          "data": {
            "text/plain": [
              "<Figure size 1000x300 with 4 Axes>"
            ],
            "image/png": "[encoded data removed]"
          },
          "metadata": {}
        }
      ]
    },
    {
      "cell_type": "markdown",
      "source": [
        "DESCRIBE DATA"
      ],
      "metadata": {
        "id": "kQ4x6c7Xhi6N"
      }
    },
    {
      "cell_type": "code",
      "source": [
        "# Data processing"
      ],
      "metadata": {
        "id": "2BAg_pCXLRaw"
      },
      "execution_count": null,
      "outputs": []
    },
    {
      "cell_type": "code",
      "source": [
        "df.images.shape"
      ],
      "metadata": {
        "id": "PX_BDt3bLRYE",
        "colab": {
          "base_uri": "https://localhost:8080/"
        },
        "outputId": "b69213b7-8e6d-4c15-8d05-13f2f9ab2956"
      },
      "execution_count": null,
      "outputs": [
        {
          "output_type": "execute_result",
          "data": {
            "text/plain": [
              "(1797, 8, 8)"
            ]
          },
          "metadata": {},
          "execution_count": 14
        }
      ]
    },
    {
      "cell_type": "code",
      "source": [
        "df.images[0]"
      ],
      "metadata": {
        "id": "BsImgJfNLRVj",
        "colab": {
          "base_uri": "https://localhost:8080/"
        },
        "outputId": "32d89dd5-b9ed-4776-ac0f-f1853d27a3c3"
      },
      "execution_count": null,
      "outputs": [
        {
          "output_type": "execute_result",
          "data": {
            "text/plain": [
              "array([[ 0.,  0.,  5., 13.,  9.,  1.,  0.,  0.],\n",
              "       [ 0.,  0., 13., 15., 10., 15.,  5.,  0.],\n",
              "       [ 0.,  3., 15.,  2.,  0., 11.,  8.,  0.],\n",
              "       [ 0.,  4., 12.,  0.,  0.,  8.,  8.,  0.],\n",
              "       [ 0.,  5.,  8.,  0.,  0.,  9.,  8.,  0.],\n",
              "       [ 0.,  4., 11.,  0.,  1., 12.,  7.,  0.],\n",
              "       [ 0.,  2., 14.,  5., 10., 12.,  0.,  0.],\n",
              "       [ 0.,  0.,  6., 13., 10.,  0.,  0.,  0.]])"
            ]
          },
          "metadata": {},
          "execution_count": 15
        }
      ]
    },
    {
      "cell_type": "code",
      "source": [
        "df.images[0].shape"
      ],
      "metadata": {
        "id": "Wg7qMBR0LRTc",
        "colab": {
          "base_uri": "https://localhost:8080/"
        },
        "outputId": "bd1a0f42-e08d-493f-dcd6-cb9adafe90fb"
      },
      "execution_count": null,
      "outputs": [
        {
          "output_type": "execute_result",
          "data": {
            "text/plain": [
              "(8, 8)"
            ]
          },
          "metadata": {},
          "execution_count": 16
        }
      ]
    },
    {
      "cell_type": "code",
      "source": [
        "len(df.images)"
      ],
      "metadata": {
        "id": "xcGJfyItLRRI",
        "colab": {
          "base_uri": "https://localhost:8080/"
        },
        "outputId": "f230eb4e-1eac-4e0c-bd1f-bfbec940efa1"
      },
      "execution_count": null,
      "outputs": [
        {
          "output_type": "execute_result",
          "data": {
            "text/plain": [
              "1797"
            ]
          },
          "metadata": {},
          "execution_count": 17
        }
      ]
    },
    {
      "cell_type": "markdown",
      "source": [
        "DATA PREPROCESSING"
      ],
      "metadata": {
        "id": "2bVM0dqLh80x"
      }
    },
    {
      "cell_type": "code",
      "source": [
        "n_samples = len(df.images)\n",
        "data = df.images.reshape((n_samples, -1))"
      ],
      "metadata": {
        "id": "Qhmw4ZpBLRN0"
      },
      "execution_count": null,
      "outputs": []
    },
    {
      "cell_type": "code",
      "source": [
        "data[0]"
      ],
      "metadata": {
        "id": "Cor-iLkjLRLt",
        "colab": {
          "base_uri": "https://localhost:8080/"
        },
        "outputId": "79f96fb1-4275-492d-d65d-2d02329c8eb6"
      },
      "execution_count": null,
      "outputs": [
        {
          "output_type": "execute_result",
          "data": {
            "text/plain": [
              "array([ 0.,  0.,  5., 13.,  9.,  1.,  0.,  0.,  0.,  0., 13., 15., 10.,\n",
              "       15.,  5.,  0.,  0.,  3., 15.,  2.,  0., 11.,  8.,  0.,  0.,  4.,\n",
              "       12.,  0.,  0.,  8.,  8.,  0.,  0.,  5.,  8.,  0.,  0.,  9.,  8.,\n",
              "        0.,  0.,  4., 11.,  0.,  1., 12.,  7.,  0.,  0.,  2., 14.,  5.,\n",
              "       10., 12.,  0.,  0.,  0.,  0.,  6., 13., 10.,  0.,  0.,  0.])"
            ]
          },
          "metadata": {},
          "execution_count": 19
        }
      ]
    },
    {
      "cell_type": "code",
      "source": [
        "data[0].shape"
      ],
      "metadata": {
        "colab": {
          "base_uri": "https://localhost:8080/"
        },
        "id": "CphUM3-mbVOk",
        "outputId": "43acbfbf-1825-4438-e4e2-6d829341d818"
      },
      "execution_count": null,
      "outputs": [
        {
          "output_type": "execute_result",
          "data": {
            "text/plain": [
              "(64,)"
            ]
          },
          "metadata": {},
          "execution_count": 20
        }
      ]
    },
    {
      "cell_type": "code",
      "source": [
        "data.shape"
      ],
      "metadata": {
        "colab": {
          "base_uri": "https://localhost:8080/"
        },
        "id": "c2Siu3fObVLO",
        "outputId": "cf3ed52d-ad1d-4713-fb2a-561f8156bdf9"
      },
      "execution_count": null,
      "outputs": [
        {
          "output_type": "execute_result",
          "data": {
            "text/plain": [
              "(1797, 64)"
            ]
          },
          "metadata": {},
          "execution_count": 21
        }
      ]
    },
    {
      "cell_type": "code",
      "source": [
        "# Scaling image data"
      ],
      "metadata": {
        "id": "uycAjyASbVJV"
      },
      "execution_count": null,
      "outputs": []
    },
    {
      "cell_type": "code",
      "source": [
        "data.min()"
      ],
      "metadata": {
        "colab": {
          "base_uri": "https://localhost:8080/"
        },
        "id": "-dLUXCccbVF8",
        "outputId": "860208e7-cd7b-4119-e480-ba3489304756"
      },
      "execution_count": null,
      "outputs": [
        {
          "output_type": "execute_result",
          "data": {
            "text/plain": [
              "0.0"
            ]
          },
          "metadata": {},
          "execution_count": 22
        }
      ]
    },
    {
      "cell_type": "code",
      "source": [
        "data.max()"
      ],
      "metadata": {
        "colab": {
          "base_uri": "https://localhost:8080/"
        },
        "id": "L2vw12hIbVDR",
        "outputId": "a395c345-14bb-49d1-becb-aa6c7ffef577"
      },
      "execution_count": null,
      "outputs": [
        {
          "output_type": "execute_result",
          "data": {
            "text/plain": [
              "16.0"
            ]
          },
          "metadata": {},
          "execution_count": 24
        }
      ]
    },
    {
      "cell_type": "code",
      "source": [
        "data = data/16"
      ],
      "metadata": {
        "id": "KRiV2aOjbVA9"
      },
      "execution_count": null,
      "outputs": []
    },
    {
      "cell_type": "code",
      "source": [
        "data.min()"
      ],
      "metadata": {
        "colab": {
          "base_uri": "https://localhost:8080/"
        },
        "id": "DmG_8r1MbU-k",
        "outputId": "d24e4408-9141-46fb-970e-8bcbfba16f7b"
      },
      "execution_count": null,
      "outputs": [
        {
          "output_type": "execute_result",
          "data": {
            "text/plain": [
              "0.0"
            ]
          },
          "metadata": {},
          "execution_count": 26
        }
      ]
    },
    {
      "cell_type": "code",
      "source": [
        "data.max()"
      ],
      "metadata": {
        "colab": {
          "base_uri": "https://localhost:8080/"
        },
        "id": "rVO9zf-Bb8KC",
        "outputId": "2a3c49a7-6ecd-4d9c-9757-2d792367405c"
      },
      "execution_count": null,
      "outputs": [
        {
          "output_type": "execute_result",
          "data": {
            "text/plain": [
              "1.0"
            ]
          },
          "metadata": {},
          "execution_count": 27
        }
      ]
    },
    {
      "cell_type": "code",
      "source": [
        "data[0]"
      ],
      "metadata": {
        "colab": {
          "base_uri": "https://localhost:8080/"
        },
        "id": "hNLR8K_5cB0t",
        "outputId": "7f784c16-96ed-4e27-acc2-c219fdb4e09c"
      },
      "execution_count": null,
      "outputs": [
        {
          "output_type": "execute_result",
          "data": {
            "text/plain": [
              "array([0.    , 0.    , 0.3125, 0.8125, 0.5625, 0.0625, 0.    , 0.    ,\n",
              "       0.    , 0.    , 0.8125, 0.9375, 0.625 , 0.9375, 0.3125, 0.    ,\n",
              "       0.    , 0.1875, 0.9375, 0.125 , 0.    , 0.6875, 0.5   , 0.    ,\n",
              "       0.    , 0.25  , 0.75  , 0.    , 0.    , 0.5   , 0.5   , 0.    ,\n",
              "       0.    , 0.3125, 0.5   , 0.    , 0.    , 0.5625, 0.5   , 0.    ,\n",
              "       0.    , 0.25  , 0.6875, 0.    , 0.0625, 0.75  , 0.4375, 0.    ,\n",
              "       0.    , 0.125 , 0.875 , 0.3125, 0.625 , 0.75  , 0.    , 0.    ,\n",
              "       0.    , 0.    , 0.375 , 0.8125, 0.625 , 0.    , 0.    , 0.    ])"
            ]
          },
          "metadata": {},
          "execution_count": 28
        }
      ]
    },
    {
      "cell_type": "markdown",
      "source": [
        "TRAIN TEST SPLIT"
      ],
      "metadata": {
        "id": "rM7Ygv1jiIem"
      }
    },
    {
      "cell_type": "code",
      "source": [
        "# train test split data"
      ],
      "metadata": {
        "id": "zWoyAG-McByP"
      },
      "execution_count": null,
      "outputs": []
    },
    {
      "cell_type": "code",
      "source": [
        "from sklearn.model_selection import train_test_split\n"
      ],
      "metadata": {
        "id": "aj5qmxglcBvi"
      },
      "execution_count": 30,
      "outputs": []
    },
    {
      "cell_type": "code",
      "source": [
        "X_train,X_test,y_train,y_test=train_test_split(data, df.target, test_size=0.3)"
      ],
      "metadata": {
        "id": "Bvcg5jrGcBtK"
      },
      "execution_count": 31,
      "outputs": []
    },
    {
      "cell_type": "code",
      "source": [
        "X_train.shape,X_test.shape,y_train.shape,y_test.shape"
      ],
      "metadata": {
        "id": "ot3edcSAcBqk",
        "colab": {
          "base_uri": "https://localhost:8080/"
        },
        "outputId": "14474212-76cb-4bc5-b515-82429a99b011"
      },
      "execution_count": 32,
      "outputs": [
        {
          "output_type": "execute_result",
          "data": {
            "text/plain": [
              "((1257, 64), (540, 64), (1257,), (540,))"
            ]
          },
          "metadata": {},
          "execution_count": 32
        }
      ]
    },
    {
      "cell_type": "markdown",
      "source": [
        "MODELING"
      ],
      "metadata": {
        "id": "Fu4Nvce0iPpJ"
      }
    },
    {
      "cell_type": "code",
      "source": [
        "# Random forest model"
      ],
      "metadata": {
        "id": "FB4MEFS7cBoT"
      },
      "execution_count": 33,
      "outputs": []
    },
    {
      "cell_type": "code",
      "source": [
        "from sklearn.ensemble import RandomForestClassifier"
      ],
      "metadata": {
        "id": "kdFIFGqmcBlq"
      },
      "execution_count": 37,
      "outputs": []
    },
    {
      "cell_type": "code",
      "source": [
        "rf = RandomForestClassifier()"
      ],
      "metadata": {
        "id": "XWnQTkpZcBjW"
      },
      "execution_count": 38,
      "outputs": []
    },
    {
      "cell_type": "code",
      "source": [
        "rf.fit(X_train, y_train)"
      ],
      "metadata": {
        "colab": {
          "base_uri": "https://localhost:8080/",
          "height": 74
        },
        "id": "q7h2Q38Uesk1",
        "outputId": "96a22c6a-fd01-468f-a721-dfef3eca6d74"
      },
      "execution_count": 39,
      "outputs": [
        {
          "output_type": "execute_result",
          "data": {
            "text/plain": [
              "RandomForestClassifier()"
            ],
            "text/html": [
              "<style>#sk-container-id-1 {color: black;background-color: white;}#sk-container-id-1 pre{padding: 0;}#sk-container-id-1 div.sk-toggleable {background-color: white;}#sk-container-id-1 label.sk-toggleable__label {cursor: pointer;display: block;width: 100%;margin-bottom: 0;padding: 0.3em;box-sizing: border-box;text-align: center;}#sk-container-id-1 label.sk-toggleable__label-arrow:before {content: \"▸\";float: left;margin-right: 0.25em;color: #696969;}#sk-container-id-1 label.sk-toggleable__label-arrow:hover:before {color: black;}#sk-container-id-1 div.sk-estimator:hover label.sk-toggleable__label-arrow:before {color: black;}#sk-container-id-1 div.sk-toggleable__content {max-height: 0;max-width: 0;overflow: hidden;text-align: left;background-color: #f0f8ff;}#sk-container-id-1 div.sk-toggleable__content pre {margin: 0.2em;color: black;border-radius: 0.25em;background-color: #f0f8ff;}#sk-container-id-1 input.sk-toggleable__control:checked~div.sk-toggleable__content {max-height: 200px;max-width: 100%;overflow: auto;}#sk-container-id-1 input.sk-toggleable__control:checked~label.sk-toggleable__label-arrow:before {content: \"▾\";}#sk-container-id-1 div.sk-estimator input.sk-toggleable__control:checked~label.sk-toggleable__label {background-color: #d4ebff;}#sk-container-id-1 div.sk-label input.sk-toggleable__control:checked~label.sk-toggleable__label {background-color: #d4ebff;}#sk-container-id-1 input.sk-hidden--visually {border: 0;clip: rect(1px 1px 1px 1px);clip: rect(1px, 1px, 1px, 1px);height: 1px;margin: -1px;overflow: hidden;padding: 0;position: absolute;width: 1px;}#sk-container-id-1 div.sk-estimator {font-family: monospace;background-color: #f0f8ff;border: 1px dotted black;border-radius: 0.25em;box-sizing: border-box;margin-bottom: 0.5em;}#sk-container-id-1 div.sk-estimator:hover {background-color: #d4ebff;}#sk-container-id-1 div.sk-parallel-item::after {content: \"\";width: 100%;border-bottom: 1px solid gray;flex-grow: 1;}#sk-container-id-1 div.sk-label:hover label.sk-toggleable__label {background-color: #d4ebff;}#sk-container-id-1 div.sk-serial::before {content: \"\";position: absolute;border-left: 1px solid gray;box-sizing: border-box;top: 0;bottom: 0;left: 50%;z-index: 0;}#sk-container-id-1 div.sk-serial {display: flex;flex-direction: column;align-items: center;background-color: white;padding-right: 0.2em;padding-left: 0.2em;position: relative;}#sk-container-id-1 div.sk-item {position: relative;z-index: 1;}#sk-container-id-1 div.sk-parallel {display: flex;align-items: stretch;justify-content: center;background-color: white;position: relative;}#sk-container-id-1 div.sk-item::before, #sk-container-id-1 div.sk-parallel-item::before {content: \"\";position: absolute;border-left: 1px solid gray;box-sizing: border-box;top: 0;bottom: 0;left: 50%;z-index: -1;}#sk-container-id-1 div.sk-parallel-item {display: flex;flex-direction: column;z-index: 1;position: relative;background-color: white;}#sk-container-id-1 div.sk-parallel-item:first-child::after {align-self: flex-end;width: 50%;}#sk-container-id-1 div.sk-parallel-item:last-child::after {align-self: flex-start;width: 50%;}#sk-container-id-1 div.sk-parallel-item:only-child::after {width: 0;}#sk-container-id-1 div.sk-dashed-wrapped {border: 1px dashed gray;margin: 0 0.4em 0.5em 0.4em;box-sizing: border-box;padding-bottom: 0.4em;background-color: white;}#sk-container-id-1 div.sk-label label {font-family: monospace;font-weight: bold;display: inline-block;line-height: 1.2em;}#sk-container-id-1 div.sk-label-container {text-align: center;}#sk-container-id-1 div.sk-container {/* jupyter's `normalize.less` sets `[hidden] { display: none; }` but bootstrap.min.css set `[hidden] { display: none !important; }` so we also need the `!important` here to be able to override the default hidden behavior on the sphinx rendered scikit-learn.org. See: https://github.com/scikit-learn/scikit-learn/issues/21755 */display: inline-block !important;position: relative;}#sk-container-id-1 div.sk-text-repr-fallback {display: none;}</style><div id=\"sk-container-id-1\" class=\"sk-top-container\"><div class=\"sk-text-repr-fallback\"><pre>RandomForestClassifier()</pre><b>In a Jupyter environment, please rerun this cell to show the HTML representation or trust the notebook. <br />On GitHub, the HTML representation is unable to render, please try loading this page with nbviewer.org.</b></div><div class=\"sk-container\" hidden><div class=\"sk-item\"><div class=\"sk-estimator sk-toggleable\"><input class=\"sk-toggleable__control sk-hidden--visually\" id=\"sk-estimator-id-1\" type=\"checkbox\" checked><label for=\"sk-estimator-id-1\" class=\"sk-toggleable__label sk-toggleable__label-arrow\">RandomForestClassifier</label><div class=\"sk-toggleable__content\"><pre>RandomForestClassifier()</pre></div></div></div></div></div>"
            ]
          },
          "metadata": {},
          "execution_count": 39
        }
      ]
    },
    {
      "cell_type": "markdown",
      "source": [
        "PREDICTION"
      ],
      "metadata": {
        "id": "cZDAWZWKiTlV"
      }
    },
    {
      "cell_type": "code",
      "source": [
        "# Predict the test data\n",
        "y_pred = rf.predict(X_test)"
      ],
      "metadata": {
        "id": "Ejnk_64jeshV"
      },
      "execution_count": 41,
      "outputs": []
    },
    {
      "cell_type": "code",
      "source": [
        "y_pred"
      ],
      "metadata": {
        "colab": {
          "base_uri": "https://localhost:8080/"
        },
        "id": "264nNqnfeser",
        "outputId": "613e5d2c-5b1e-4b79-db86-bd8bdbc181c1"
      },
      "execution_count": 42,
      "outputs": [
        {
          "output_type": "execute_result",
          "data": {
            "text/plain": [
              "array([5, 2, 3, 8, 5, 4, 3, 9, 3, 8, 3, 2, 7, 2, 0, 7, 5, 6, 7, 8, 2, 0,\n",
              "       1, 9, 2, 0, 2, 9, 9, 2, 4, 3, 3, 0, 3, 4, 3, 5, 0, 4, 4, 6, 1, 3,\n",
              "       6, 2, 1, 9, 7, 2, 6, 8, 3, 7, 7, 7, 4, 0, 1, 7, 4, 3, 1, 1, 1, 1,\n",
              "       8, 4, 0, 2, 6, 7, 5, 5, 9, 9, 3, 1, 3, 1, 5, 1, 2, 2, 8, 8, 2, 5,\n",
              "       3, 5, 6, 5, 8, 4, 8, 8, 2, 2, 5, 8, 8, 6, 2, 7, 4, 4, 8, 1, 3, 5,\n",
              "       0, 3, 9, 2, 6, 5, 1, 1, 2, 8, 2, 0, 3, 5, 3, 3, 1, 1, 1, 5, 0, 7,\n",
              "       8, 6, 8, 8, 5, 7, 9, 4, 9, 9, 7, 2, 4, 8, 1, 2, 2, 4, 2, 8, 1, 3,\n",
              "       5, 3, 6, 4, 6, 6, 8, 1, 3, 6, 8, 6, 5, 0, 0, 5, 0, 0, 1, 3, 6, 6,\n",
              "       5, 5, 5, 2, 9, 7, 6, 0, 5, 4, 6, 9, 8, 4, 0, 9, 2, 6, 6, 3, 1, 4,\n",
              "       9, 8, 5, 4, 1, 9, 6, 9, 1, 7, 8, 8, 6, 5, 7, 1, 8, 3, 8, 2, 4, 5,\n",
              "       6, 9, 7, 7, 2, 1, 6, 0, 0, 2, 1, 9, 9, 3, 6, 8, 4, 1, 3, 1, 6, 0,\n",
              "       7, 9, 3, 6, 4, 9, 8, 9, 5, 3, 9, 1, 5, 8, 3, 4, 9, 0, 6, 5, 4, 8,\n",
              "       2, 6, 0, 0, 3, 2, 6, 9, 8, 7, 5, 4, 8, 1, 0, 9, 1, 3, 7, 4, 5, 6,\n",
              "       3, 8, 9, 8, 1, 2, 8, 1, 9, 0, 8, 3, 3, 6, 9, 7, 3, 4, 0, 9, 2, 6,\n",
              "       5, 5, 0, 7, 6, 5, 5, 4, 3, 5, 1, 3, 2, 0, 4, 2, 7, 9, 7, 9, 2, 2,\n",
              "       0, 0, 5, 1, 3, 8, 9, 5, 0, 9, 4, 6, 4, 4, 3, 0, 5, 3, 1, 1, 7, 4,\n",
              "       5, 8, 8, 1, 1, 4, 2, 6, 0, 4, 7, 8, 0, 8, 2, 3, 9, 3, 8, 2, 3, 0,\n",
              "       1, 5, 9, 9, 8, 0, 7, 2, 3, 1, 1, 5, 0, 7, 9, 9, 7, 1, 0, 5, 2, 6,\n",
              "       6, 8, 6, 7, 6, 5, 0, 9, 9, 3, 6, 5, 0, 8, 5, 6, 8, 9, 7, 9, 6, 0,\n",
              "       4, 1, 4, 7, 3, 0, 7, 0, 4, 4, 7, 4, 5, 1, 4, 5, 7, 9, 9, 4, 7, 2,\n",
              "       5, 8, 9, 0, 4, 5, 9, 8, 7, 7, 5, 0, 8, 4, 6, 6, 0, 6, 2, 2, 1, 8,\n",
              "       9, 3, 9, 5, 2, 9, 7, 1, 9, 2, 3, 9, 7, 4, 5, 1, 3, 5, 5, 9, 1, 9,\n",
              "       7, 5, 4, 0, 1, 7, 3, 9, 2, 4, 2, 2, 7, 1, 4, 4, 6, 8, 3, 7, 9, 2,\n",
              "       4, 1, 0, 0, 1, 2, 6, 8, 4, 6, 7, 4, 1, 3, 4, 0, 0, 6, 5, 3, 9, 9,\n",
              "       9, 2, 7, 7, 6, 3, 0, 4, 2, 2, 4, 0])"
            ]
          },
          "metadata": {},
          "execution_count": 42
        }
      ]
    },
    {
      "cell_type": "markdown",
      "source": [
        "MODEL EVALUVATION"
      ],
      "metadata": {
        "id": "_s9D36RniX7m"
      }
    },
    {
      "cell_type": "code",
      "source": [
        "# Model accuracy"
      ],
      "metadata": {
        "id": "D5kXTpG1escB"
      },
      "execution_count": 43,
      "outputs": []
    },
    {
      "cell_type": "code",
      "source": [
        "from sklearn.metrics import confusion_matrix, classification_report\n"
      ],
      "metadata": {
        "id": "azoKModsesY2"
      },
      "execution_count": 44,
      "outputs": []
    },
    {
      "cell_type": "code",
      "source": [
        "confusion_matrix(y_test, y_pred)"
      ],
      "metadata": {
        "colab": {
          "base_uri": "https://localhost:8080/"
        },
        "id": "AkNCwIToesWY",
        "outputId": "c3f00628-c824-491e-8139-2ec701396af9"
      },
      "execution_count": 45,
      "outputs": [
        {
          "output_type": "execute_result",
          "data": {
            "text/plain": [
              "array([[52,  0,  0,  0,  0,  0,  0,  0,  0,  0],\n",
              "       [ 0, 51,  0,  0,  0,  1,  0,  0,  0,  1],\n",
              "       [ 0,  0, 53,  0,  0,  0,  0,  0,  0,  0],\n",
              "       [ 0,  0,  0, 54,  0,  2,  0,  0,  0,  0],\n",
              "       [ 0,  0,  0,  0, 53,  0,  0,  0,  0,  2],\n",
              "       [ 0,  0,  0,  0,  2, 52,  1,  0,  0,  1],\n",
              "       [ 0,  0,  0,  0,  0,  1, 50,  0,  0,  0],\n",
              "       [ 0,  0,  0,  0,  0,  0,  0, 48,  0,  1],\n",
              "       [ 0,  4,  1,  0,  0,  0,  0,  0, 53,  0],\n",
              "       [ 0,  0,  0,  1,  0,  1,  0,  0,  0, 55]])"
            ]
          },
          "metadata": {},
          "execution_count": 45
        }
      ]
    },
    {
      "cell_type": "code",
      "source": [
        "print(classification_report(y_test, y_pred))"
      ],
      "metadata": {
        "colab": {
          "base_uri": "https://localhost:8080/"
        },
        "id": "4WC-5u6nfK5S",
        "outputId": "b77d3ea2-680a-4b75-bf3a-9b2bb2d4227b"
      },
      "execution_count": 46,
      "outputs": [
        {
          "output_type": "stream",
          "name": "stdout",
          "text": [
            "              precision    recall  f1-score   support\n",
            "\n",
            "           0       1.00      1.00      1.00        52\n",
            "           1       0.93      0.96      0.94        53\n",
            "           2       0.98      1.00      0.99        53\n",
            "           3       0.98      0.96      0.97        56\n",
            "           4       0.96      0.96      0.96        55\n",
            "           5       0.91      0.93      0.92        56\n",
            "           6       0.98      0.98      0.98        51\n",
            "           7       1.00      0.98      0.99        49\n",
            "           8       1.00      0.91      0.95        58\n",
            "           9       0.92      0.96      0.94        57\n",
            "\n",
            "    accuracy                           0.96       540\n",
            "   macro avg       0.97      0.97      0.97       540\n",
            "weighted avg       0.97      0.96      0.96       540\n",
            "\n"
          ]
        }
      ]
    },
    {
      "cell_type": "markdown",
      "source": [
        "EXPLANATION"
      ],
      "metadata": {
        "id": "ckHejTcVidXG"
      }
    },
    {
      "cell_type": "markdown",
      "source": [
        "The above cells perform the following tasks:\n",
        "1. Import necessary libraries and load the digits dataset.\n",
        "2. Visualize the first four images of the dataset.\n",
        "3. Preprocess the data by reshaping and scaling.\n",
        "4. Split the data into training and testing sets.\n",
        "5. Train a Random Forest model on the training data.\n",
        "6. Predict the test data and evaluate the model's performance using confusion matrix and classification report.\n"
      ],
      "metadata": {
        "id": "z-l2yTgVifVI"
      }
    }
  ]
}